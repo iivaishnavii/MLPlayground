{
  "nbformat": 4,
  "nbformat_minor": 0,
  "metadata": {
    "colab": {
      "name": "HandWritingRecognition.ipynb",
      "version": "0.3.2",
      "provenance": [],
      "include_colab_link": true
    },
    "kernelspec": {
      "name": "python3",
      "display_name": "Python 3"
    }
  },
  "cells": [
    {
      "cell_type": "markdown",
      "metadata": {
        "id": "view-in-github",
        "colab_type": "text"
      },
      "source": [
        "<a href=\"https://colab.research.google.com/github/iivaishnavii/MLPlayground/blob/master/HandWritingRecognition.ipynb\" target=\"_parent\"><img src=\"https://colab.research.google.com/assets/colab-badge.svg\" alt=\"Open In Colab\"/></a>"
      ]
    },
    {
      "metadata": {
        "id": "Werp48A1lkgK",
        "colab_type": "code",
        "colab": {}
      },
      "cell_type": "code",
      "source": [
        "import tensorflow as tf\n",
        "(train_images,train_labels),(test_images,test_labels) = tf.keras.datasets.mnist.load_data()\n",
        "train_images, test_images = train_images / 255.0, test_images / 255.0"
      ],
      "execution_count": 0,
      "outputs": []
    },
    {
      "metadata": {
        "id": "46CFC8wTln0W",
        "colab_type": "code",
        "colab": {}
      },
      "cell_type": "code",
      "source": [
        "model = tf.keras.models.Sequential([\n",
        "  tf.keras.layers.Flatten(),\n",
        "  tf.keras.layers.Dense(512, activation=tf.nn.relu),\n",
        "  tf.keras.layers.Dropout(0.2),\n",
        "  tf.keras.layers.Dense(10, activation=tf.nn.softmax)\n",
        "])\n",
        "\n",
        "model.compile(optimizer='adam',\n",
        "              loss='sparse_categorical_crossentropy',\n",
        "              metrics=['accuracy'])"
      ],
      "execution_count": 0,
      "outputs": []
    },
    {
      "metadata": {
        "id": "2lvzwNgymEHm",
        "colab_type": "code",
        "colab": {
          "base_uri": "https://localhost:8080/",
          "height": 404
        },
        "outputId": "b69326af-c346-471f-baaf-1549f64d87da"
      },
      "cell_type": "code",
      "source": [
        "model.fit(train_images, train_labels, epochs=10)\n",
        "\n",
        "model.evaluate(test_images, test_labels)"
      ],
      "execution_count": 8,
      "outputs": [
        {
          "output_type": "stream",
          "text": [
            "Epoch 1/10\n",
            "60000/60000 [==============================] - 16s 267us/step - loss: 0.0224 - acc: 0.9927\n",
            "Epoch 2/10\n",
            "60000/60000 [==============================] - 16s 259us/step - loss: 0.0169 - acc: 0.9944\n",
            "Epoch 3/10\n",
            "60000/60000 [==============================] - 16s 264us/step - loss: 0.0144 - acc: 0.9952\n",
            "Epoch 4/10\n",
            "60000/60000 [==============================] - 16s 261us/step - loss: 0.0115 - acc: 0.9963\n",
            "Epoch 5/10\n",
            "60000/60000 [==============================] - 15s 257us/step - loss: 0.0106 - acc: 0.9961\n",
            "Epoch 6/10\n",
            "60000/60000 [==============================] - 16s 260us/step - loss: 0.0096 - acc: 0.9968\n",
            "Epoch 7/10\n",
            "60000/60000 [==============================] - 16s 259us/step - loss: 0.0086 - acc: 0.9970\n",
            "Epoch 8/10\n",
            "60000/60000 [==============================] - 16s 262us/step - loss: 0.0081 - acc: 0.9975\n",
            "Epoch 9/10\n",
            "60000/60000 [==============================] - 16s 263us/step - loss: 0.0063 - acc: 0.9980\n",
            "Epoch 10/10\n",
            "60000/60000 [==============================] - 16s 263us/step - loss: 0.0072 - acc: 0.9977\n",
            "10000/10000 [==============================] - 1s 52us/step\n"
          ],
          "name": "stdout"
        },
        {
          "output_type": "execute_result",
          "data": {
            "text/plain": [
              "[0.09802428704174236, 0.9811]"
            ]
          },
          "metadata": {
            "tags": []
          },
          "execution_count": 8
        }
      ]
    }
  ]
}